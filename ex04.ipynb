{
 "cells": [
  {
   "cell_type": "markdown",
   "metadata": {},
   "source": [
    "1 - Menor de dois pares: Escreva uma função que retorne o menor de dois números dados se ambos os números forem pares, mas retorna o maior se um dos dois for ímpar. Exemplo:\n",
    "menor_de_dois_pares(2,4) --> 2\n",
    "menor_de_dois_pares (2,5) --> 5"
   ]
  },
  {
   "cell_type": "code",
   "execution_count": 15,
   "metadata": {},
   "outputs": [
    {
     "name": "stdout",
     "output_type": "stream",
     "text": [
      "Digite o primeiro número: 5\n",
      "Digite o segundo número: 8\n",
      "maior(5,8) --> 8\n"
     ]
    }
   ],
   "source": [
    "def maior_menor(a, b):\n",
    "    if(a%2 == 0 and b%2 == 0):\n",
    "        if(a < b):\n",
    "            print(f\"menor({a},{b}) --> {a}\")\n",
    "        else:\n",
    "            print(f\"menor({a},{b}) --> {b}\")\n",
    "    else:\n",
    "        if(a > b):\n",
    "            print(f\"maior({a},{b}) --> {a}\")\n",
    "        else:\n",
    "            print(f\"maior({a},{b}) --> {b}\")\n",
    "            \n",
    "x = int(input(\"Digite o primeiro número: \"))\n",
    "y = int(input(\"Digite o segundo número: \"))\n",
    "maior_menor(x,y)"
   ]
  },
  {
   "cell_type": "code",
   "execution_count": null,
   "metadata": {},
   "outputs": [],
   "source": [
    "2 - Mesma letra: Escreva uma função que receba uma string com duas palavras e \n",
    "    retorne True se ambas palavras começarem com a mesma letra. Exemplo:\n",
    "\n",
    "mesma_letra('Cão covarde') -> True\n",
    "mesma_letra('Vira Lata') -> False"
   ]
  },
  {
   "cell_type": "code",
   "execution_count": 24,
   "metadata": {},
   "outputs": [
    {
     "name": "stdout",
     "output_type": "stream",
     "text": [
      "Digite duas palavras separadas por espaçoRafa rafa\n"
     ]
    },
    {
     "data": {
      "text/plain": [
       "True"
      ]
     },
     "execution_count": 24,
     "metadata": {},
     "output_type": "execute_result"
    }
   ],
   "source": [
    "def mesma_letra(texto):\n",
    "    if(texto[0][0].lower() == texto[1][0].lower()):\n",
    "        return True\n",
    "    else:\n",
    "        return False\n",
    "palavras = input(\"Digite duas palavras separadas por espaço: \").split()\n",
    "mesma_letra(palavras)\n",
    "# print(palavras, palavras[0], palavras[0][1])"
   ]
  },
  {
   "cell_type": "markdown",
   "metadata": {},
   "source": [
    "3 - Mestre Yoda: Dada uma sentença, a função deve retornar a sentença com as palavras na ordem reversa. Exemplo:\n",
    "\n",
    "mestre_yoda('Eu estou em casa') --> 'casa em estou Eu'\n",
    "mestre_yoda('Estamos prontos') --> 'prontos Estamos'"
   ]
  },
  {
   "cell_type": "code",
   "execution_count": 43,
   "metadata": {},
   "outputs": [
    {
     "name": "stdout",
     "output_type": "stream",
     "text": [
      "Digite uma setença: Estou aqui em casa\n",
      "casa em aqui Estou \n"
     ]
    }
   ],
   "source": [
    "def mestre_yoda(frase):\n",
    "    lista_invertida = []\n",
    "    frase_invertida = ''\n",
    "    x = len(frase) - 1\n",
    "    i = 0\n",
    "    while (x>=0):\n",
    "        lista_invertida += [frase[x]]\n",
    "        frase_invertida += lista_invertida[i] + ' '\n",
    "        i += 1\n",
    "        x -= 1\n",
    "    print(frase_invertida)\n",
    "        \n",
    "sentence = input(\"Digite uma setença: \").split()\n",
    "mestre_yoda(sentence)"
   ]
  },
  {
   "cell_type": "markdown",
   "metadata": {},
   "source": [
    "4 - Tem 33: Faça uma função que retorne True se, dada uma lista de inteiros, houver em alguma posição da lista um 3 do lado de outro 3. Exemplo:\n",
    "\n",
    "tem_33([1,3,3]) --> True\n",
    "tem_33([1,3,1,3]) --> False\n",
    "tem_33([3,1,3]) --> False"
   ]
  },
  {
   "cell_type": "code",
   "execution_count": 67,
   "metadata": {},
   "outputs": [
    {
     "name": "stdout",
     "output_type": "stream",
     "text": [
      "Digite uma lista de números separados por expaço: 1 6 5 3 4 3\n",
      "False\n"
     ]
    }
   ],
   "source": [
    "def tem_33(lista):\n",
    "    i = 0\n",
    "    b = False\n",
    "    valor_anterior = 0\n",
    "    for x in lista:\n",
    "        if(x == '3'):\n",
    "            if(valor_anterior == '3'):\n",
    "                b = True\n",
    "                print(b)\n",
    "                break\n",
    "        valor_anterior = x\n",
    "        i += 1\n",
    "    if(b == False):\n",
    "        print(b)\n",
    "\n",
    "lista = list(input(\"Digite uma lista de números separados por expaço: \").split(\" \"))\n",
    "tem_33(lista)"
   ]
  },
  {
   "cell_type": "markdown",
   "metadata": {},
   "source": [
    "5 - Blackjack: Faça uma função que receba 3 inteiros entre 1 e 11. Se a soma deles for menor que 21, retorne o valor da soma. Se for mair do que 21 e houver um 11, subtraia 10 da soma antes de apresentar o resultado. Se o valor da soma passar de 21, retorne ‘ESTOUROU’. Exemplo:\n",
    "\n",
    "blackjack(5,6,7) --> 18\n",
    "blackjack(9,9,9) --> 'ESTOUROU'\n",
    "blackjack(9,9,11) --> 19"
   ]
  },
  {
   "cell_type": "code",
   "execution_count": 84,
   "metadata": {},
   "outputs": [
    {
     "name": "stdout",
     "output_type": "stream",
     "text": [
      "Digite o valor da primeira carta: 11\n",
      "Digite o valor da segunda carta: 11\n",
      "Digite o valor da terceira carta: 10\n",
      "ESTOUROU\n"
     ]
    }
   ],
   "source": [
    "def blackjack(a,b,c):\n",
    "    soma = a + b + c\n",
    "    if(a>11 or a<1 or b>11 or b<1 or c>11 or c<1):\n",
    "        print(\"Somente valores inteiros entre 0 e 11\")\n",
    "    else:\n",
    "        if(soma <= 21):\n",
    "            print(soma)\n",
    "        else:\n",
    "            if(a == 11 or b == 11 or c == 11):\n",
    "                soma = soma - 10\n",
    "                if(soma <= 21):\n",
    "                    print(soma)\n",
    "                else:\n",
    "                    print('ESTOUROU')\n",
    "            else:\n",
    "                print('ESTOUROU')\n",
    "\n",
    "x1 = int(input(\"Digite o valor da primeira carta: \"))\n",
    "x2 = int(input(\"Digite o valor da segunda carta: \"))\n",
    "x3 = int(input(\"Digite o valor da terceira carta: \"))\n",
    "blackjack(x1,x2,x3)"
   ]
  },
  {
   "cell_type": "markdown",
   "metadata": {},
   "source": [
    "6 - Espião: Escreva uma função que receba uma lista de inteiros e retorne True se contém um 007 em ordem, mesmo que não contínuo. Exemplo:\n",
    "\n",
    "espiao([1,2,4,0,0,7,5]) --> True\n",
    "espiao([1,0,2,4,0,5,7]) --> True\n",
    "espiao([1,7,2,4,0,5,0]) --> False"
   ]
  },
  {
   "cell_type": "code",
   "execution_count": 96,
   "metadata": {},
   "outputs": [
    {
     "name": "stdout",
     "output_type": "stream",
     "text": [
      "Digite uma lista de números separados por espaço: 0 4 0 0 6 0 0 8 7 7 0 0 5\n",
      "False\n"
     ]
    }
   ],
   "source": [
    "def espiao(lista):\n",
    "    res = False\n",
    "    v_0_1 = -1\n",
    "    v_0_2 = -1\n",
    "    for i in range(len(lista)):\n",
    "        if(lista[i] == 0):\n",
    "            if(v_0_1 == 0):\n",
    "                if(v_0_2 == 0):\n",
    "                    pass\n",
    "                else:\n",
    "                    v_0_2 = 0\n",
    "            else:\n",
    "                v_0_1 = 0\n",
    "        elif(lista[i] == 7):\n",
    "            if(v_0_1 == 0 and v_0_2 == 0):\n",
    "                res = True\n",
    "                print(res)\n",
    "            else:\n",
    "                v_0_1 = -1\n",
    "                v_0_2 = -1\n",
    "        else:\n",
    "            v_0_1 = -1\n",
    "            v_0_2 = -1\n",
    "    if(res == False):\n",
    "        print(res)\n",
    "\n",
    "lista = list(map(int,input(\"Digite uma lista de números separados por espaço: \").split()))\n",
    "espiao(lista)"
   ]
  }
 ],
 "metadata": {
  "kernelspec": {
   "display_name": "Python 3",
   "language": "python",
   "name": "python3"
  },
  "language_info": {
   "codemirror_mode": {
    "name": "ipython",
    "version": 3
   },
   "file_extension": ".py",
   "mimetype": "text/x-python",
   "name": "python",
   "nbconvert_exporter": "python",
   "pygments_lexer": "ipython3",
   "version": "3.7.4"
  }
 },
 "nbformat": 4,
 "nbformat_minor": 2
}
